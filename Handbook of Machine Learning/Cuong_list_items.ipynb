{
 "cells": [
  {
   "cell_type": "code",
   "execution_count": null,
   "metadata": {
    "scrolled": false
   },
   "outputs": [],
   "source": [
    "#text_file = open(\"export-invoices-20201007-101118.txt\", \"r\")\n",
    "#text_file = open(\"joinPdf_1_500.txt\", \"r\",encoding='utf8', errors='ignore')\n",
    "#text_file = open(\"Test.txt\", \"r\",encoding='utf8', errors='ignore')\n",
    "text_file = open(\"Test_Items.txt\", \"r\",encoding='utf8', errors='ignore')\n",
    "\n",
    "# Splits the element by \"\\n\"\n",
    "lines = text_file.readlines()\n",
    "text_file.close()\n",
    "\n",
    "records = []\n",
    "error_records = []\n",
    "records.append((\"Invoice number\", \"Pc Code\", \"Item_Code\", \"Item_Name\", \"Quantity\",\"Unit_price\",\"Price with VAT\"))\n",
    "temp_start = 0\n",
    "temp_end = 0\n",
    "i = 0\n",
    "while i < (len(lines)):\n",
    "    if (lines[i].strip().find('Dodávateľ:')==0):\n",
    "        data = lines[i].strip()\n",
    "        invoice_number = data[data.rfind(\" \"):len(data)]\n",
    "        i += 35\n",
    "        data = lines[i].strip()\n",
    "        l = []\n",
    "        while (data.find('1') == 0) or (data.find('2') == 0) or (data.find('3') == 0) or (data.find('4') == 0):\n",
    "            pc_code = data[0]\n",
    "            temp_start = len(pc_code) + 1\n",
    "            item_code = data[temp_start:data[temp_start:len(data)].find(\" \")]\n",
    "            temp_start += len(item_code) + 1+1\n",
    "            price_with_VAT = data[data.rfind(\" € \")+3 :len(data)-2]\n",
    "            temp_end =  data.rfind(\" € \")\n",
    "            unit_price = data[data.rfind(\" ks \")+4 : data[1:temp_end].rfind(\" € \")+1]\n",
    "            temp_end = data.rfind(\" ks \") \n",
    "            quantity = data[temp_end -1: temp_end]\n",
    "            temp_end -= 2\n",
    "            if (i+1<len(lines)) and len(lines[i+1]) >1 :\n",
    "                item_name = data[temp_start+1:temp_end] +' ' + lines[i+1][1:len(lines[i+1])-1]\n",
    "                i += 3\n",
    "            else:\n",
    "                item_name = data[temp_start+1:temp_end]\n",
    "                i +=2\n",
    "            #t = (invoice_number, pc_code, item_code, item_name,quantity, unit_price, price_with_VAT)\n",
    "            records.append((invoice_number, pc_code, item_code, item_name,quantity, unit_price, price_with_VAT) )               \n",
    "            #if (pc_code == '1'):\n",
    "            #l.append(t)\n",
    "            #elif (t[5] > l[5]): \n",
    "            #    l = [t]\n",
    "        #records.append(l)      \n",
    "            #print(data)\n",
    "            #print(records)        \n",
    "            #print(pc_code, item_code, item_name, quantity, unit_price, price_with_VAT )\n",
    "            #print(data[temp_start+1:temp_end])\n",
    "    i +=1    \n",
    "\n",
    "#f = open('mail_items2_20201008.csv','w', encoding='utf8', errors='ignore')\n",
    "#for record in records:\n",
    "#    f.write(';'.join(record)+'\\n')\n",
    "#f.close()\n",
    "#f_err = open('error_20201008.txt','w', encoding='utf8', errors='ignore')\n",
    "#for record in error_records:\n",
    "#    f_err.write(';'.join(record)+'\\n')\n",
    "#f_err.close()"
   ]
  },
  {
   "cell_type": "code",
   "execution_count": null,
   "metadata": {},
   "outputs": [],
   "source": [
    "lines[2].find('R01') != -1"
   ]
  },
  {
   "cell_type": "code",
   "execution_count": null,
   "metadata": {},
   "outputs": [],
   "source": []
  }
 ],
 "metadata": {
  "kernelspec": {
   "display_name": "Python 3",
   "language": "python",
   "name": "python3"
  },
  "language_info": {
   "codemirror_mode": {
    "name": "ipython",
    "version": 3
   },
   "file_extension": ".py",
   "mimetype": "text/x-python",
   "name": "python",
   "nbconvert_exporter": "python",
   "pygments_lexer": "ipython3",
   "version": "3.7.5"
  }
 },
 "nbformat": 4,
 "nbformat_minor": 4
}
