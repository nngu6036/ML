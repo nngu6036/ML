{
 "cells": [
  {
   "cell_type": "code",
   "execution_count": 3,
   "metadata": {},
   "outputs": [],
   "source": [
    "import pandas as pd\n",
    "import numpy as np\n",
    "from sklearn.model_selection import train_test_split\n",
    "from sklearn.model_selection import GridSearchCV\n",
    "from sklearn.neighbors import KNeighborsClassifier\n",
    "from sklearn.svm import SVC\n",
    "from sklearn.linear_model import SGDClassifier\n",
    "from sklearn.metrics import accuracy_score\n",
    "from scipy.ndimage.interpolation import shift"
   ]
  },
  {
   "cell_type": "code",
   "execution_count": 96,
   "metadata": {},
   "outputs": [
    {
     "data": {
      "text/html": [
       "<div>\n",
       "<style scoped>\n",
       "    .dataframe tbody tr th:only-of-type {\n",
       "        vertical-align: middle;\n",
       "    }\n",
       "\n",
       "    .dataframe tbody tr th {\n",
       "        vertical-align: top;\n",
       "    }\n",
       "\n",
       "    .dataframe thead th {\n",
       "        text-align: right;\n",
       "    }\n",
       "</style>\n",
       "<table border=\"1\" class=\"dataframe\">\n",
       "  <thead>\n",
       "    <tr style=\"text-align: right;\">\n",
       "      <th></th>\n",
       "      <th>label</th>\n",
       "      <th>pixel0</th>\n",
       "      <th>pixel1</th>\n",
       "      <th>pixel2</th>\n",
       "      <th>pixel3</th>\n",
       "      <th>pixel4</th>\n",
       "      <th>pixel5</th>\n",
       "      <th>pixel6</th>\n",
       "      <th>pixel7</th>\n",
       "      <th>pixel8</th>\n",
       "      <th>...</th>\n",
       "      <th>pixel774</th>\n",
       "      <th>pixel775</th>\n",
       "      <th>pixel776</th>\n",
       "      <th>pixel777</th>\n",
       "      <th>pixel778</th>\n",
       "      <th>pixel779</th>\n",
       "      <th>pixel780</th>\n",
       "      <th>pixel781</th>\n",
       "      <th>pixel782</th>\n",
       "      <th>pixel783</th>\n",
       "    </tr>\n",
       "  </thead>\n",
       "  <tbody>\n",
       "    <tr>\n",
       "      <th>0</th>\n",
       "      <td>1</td>\n",
       "      <td>0</td>\n",
       "      <td>0</td>\n",
       "      <td>0</td>\n",
       "      <td>0</td>\n",
       "      <td>0</td>\n",
       "      <td>0</td>\n",
       "      <td>0</td>\n",
       "      <td>0</td>\n",
       "      <td>0</td>\n",
       "      <td>...</td>\n",
       "      <td>0</td>\n",
       "      <td>0</td>\n",
       "      <td>0</td>\n",
       "      <td>0</td>\n",
       "      <td>0</td>\n",
       "      <td>0</td>\n",
       "      <td>0</td>\n",
       "      <td>0</td>\n",
       "      <td>0</td>\n",
       "      <td>0</td>\n",
       "    </tr>\n",
       "    <tr>\n",
       "      <th>1</th>\n",
       "      <td>0</td>\n",
       "      <td>0</td>\n",
       "      <td>0</td>\n",
       "      <td>0</td>\n",
       "      <td>0</td>\n",
       "      <td>0</td>\n",
       "      <td>0</td>\n",
       "      <td>0</td>\n",
       "      <td>0</td>\n",
       "      <td>0</td>\n",
       "      <td>...</td>\n",
       "      <td>0</td>\n",
       "      <td>0</td>\n",
       "      <td>0</td>\n",
       "      <td>0</td>\n",
       "      <td>0</td>\n",
       "      <td>0</td>\n",
       "      <td>0</td>\n",
       "      <td>0</td>\n",
       "      <td>0</td>\n",
       "      <td>0</td>\n",
       "    </tr>\n",
       "    <tr>\n",
       "      <th>2</th>\n",
       "      <td>1</td>\n",
       "      <td>0</td>\n",
       "      <td>0</td>\n",
       "      <td>0</td>\n",
       "      <td>0</td>\n",
       "      <td>0</td>\n",
       "      <td>0</td>\n",
       "      <td>0</td>\n",
       "      <td>0</td>\n",
       "      <td>0</td>\n",
       "      <td>...</td>\n",
       "      <td>0</td>\n",
       "      <td>0</td>\n",
       "      <td>0</td>\n",
       "      <td>0</td>\n",
       "      <td>0</td>\n",
       "      <td>0</td>\n",
       "      <td>0</td>\n",
       "      <td>0</td>\n",
       "      <td>0</td>\n",
       "      <td>0</td>\n",
       "    </tr>\n",
       "    <tr>\n",
       "      <th>3</th>\n",
       "      <td>4</td>\n",
       "      <td>0</td>\n",
       "      <td>0</td>\n",
       "      <td>0</td>\n",
       "      <td>0</td>\n",
       "      <td>0</td>\n",
       "      <td>0</td>\n",
       "      <td>0</td>\n",
       "      <td>0</td>\n",
       "      <td>0</td>\n",
       "      <td>...</td>\n",
       "      <td>0</td>\n",
       "      <td>0</td>\n",
       "      <td>0</td>\n",
       "      <td>0</td>\n",
       "      <td>0</td>\n",
       "      <td>0</td>\n",
       "      <td>0</td>\n",
       "      <td>0</td>\n",
       "      <td>0</td>\n",
       "      <td>0</td>\n",
       "    </tr>\n",
       "    <tr>\n",
       "      <th>4</th>\n",
       "      <td>0</td>\n",
       "      <td>0</td>\n",
       "      <td>0</td>\n",
       "      <td>0</td>\n",
       "      <td>0</td>\n",
       "      <td>0</td>\n",
       "      <td>0</td>\n",
       "      <td>0</td>\n",
       "      <td>0</td>\n",
       "      <td>0</td>\n",
       "      <td>...</td>\n",
       "      <td>0</td>\n",
       "      <td>0</td>\n",
       "      <td>0</td>\n",
       "      <td>0</td>\n",
       "      <td>0</td>\n",
       "      <td>0</td>\n",
       "      <td>0</td>\n",
       "      <td>0</td>\n",
       "      <td>0</td>\n",
       "      <td>0</td>\n",
       "    </tr>\n",
       "  </tbody>\n",
       "</table>\n",
       "<p>5 rows × 785 columns</p>\n",
       "</div>"
      ],
      "text/plain": [
       "   label  pixel0  pixel1  pixel2  pixel3  pixel4  pixel5  pixel6  pixel7  \\\n",
       "0      1       0       0       0       0       0       0       0       0   \n",
       "1      0       0       0       0       0       0       0       0       0   \n",
       "2      1       0       0       0       0       0       0       0       0   \n",
       "3      4       0       0       0       0       0       0       0       0   \n",
       "4      0       0       0       0       0       0       0       0       0   \n",
       "\n",
       "   pixel8  ...  pixel774  pixel775  pixel776  pixel777  pixel778  pixel779  \\\n",
       "0       0  ...         0         0         0         0         0         0   \n",
       "1       0  ...         0         0         0         0         0         0   \n",
       "2       0  ...         0         0         0         0         0         0   \n",
       "3       0  ...         0         0         0         0         0         0   \n",
       "4       0  ...         0         0         0         0         0         0   \n",
       "\n",
       "   pixel780  pixel781  pixel782  pixel783  \n",
       "0         0         0         0         0  \n",
       "1         0         0         0         0  \n",
       "2         0         0         0         0  \n",
       "3         0         0         0         0  \n",
       "4         0         0         0         0  \n",
       "\n",
       "[5 rows x 785 columns]"
      ]
     },
     "execution_count": 96,
     "metadata": {},
     "output_type": "execute_result"
    }
   ],
   "source": [
    "train_df = pd.read_csv('../input/digit-recognizer/train.csv')\n",
    "test_df = pd.read_csv('../input/digit-recognizer/test.csv')\n",
    "train_df.head()"
   ]
  },
  {
   "cell_type": "code",
   "execution_count": 106,
   "metadata": {},
   "outputs": [],
   "source": [
    "X = train_df.drop('label', axis=1)\n",
    "y = train_df['label']\n",
    "X_train, X_val, y_train, y_val = train_test_split(X, y, test_size= 0.2, random_state=42)\n",
    "X_train, X_val = X_train /255.0, X_val/255.0\n",
    "X_test = test_df.to_numpy() / 255.0\n",
    "\n"
   ]
  },
  {
   "cell_type": "code",
   "execution_count": 36,
   "metadata": {},
   "outputs": [],
   "source": [
    "%matplotlib inline\n",
    "import matplotlib as mpl\n",
    "import matplotlib.pyplot as plt\n",
    "\n",
    "def plot_digit(x,y):\n",
    "    print('Digit label', y)\n",
    "    some_digit = x.to_numpy()\n",
    "    image = some_digit.reshape(28, 28)\n",
    "    plt.imshow(image, cmap = mpl.cm.binary,\n",
    "               interpolation=\"nearest\")\n",
    "    plt.axis(\"off\")\n"
   ]
  },
  {
   "cell_type": "code",
   "execution_count": 37,
   "metadata": {},
   "outputs": [
    {
     "name": "stdout",
     "output_type": "stream",
     "text": [
      "Digit label 1\n"
     ]
    },
    {
     "data": {
      "image/png": "[encoded data removed]",
      "text/plain": [
       "<Figure size 432x288 with 1 Axes>"
      ]
     },
     "metadata": {
      "needs_background": "light"
     },
     "output_type": "display_data"
    }
   ],
   "source": [
    "plot_digit(X.iloc[0],y[0])"
   ]
  },
  {
   "cell_type": "code",
   "execution_count": 38,
   "metadata": {},
   "outputs": [],
   "source": [
    "def plot_digits(instances, images_per_row=10, **options):\n",
    "    size = 28\n",
    "    images_per_row = min(len(instances), images_per_row)\n",
    "    images = [instance.reshape(size,size) for instance in instances]\n",
    "    n_rows = (len(instances) - 1) // images_per_row + 1\n",
    "    row_images = []\n",
    "    n_empty = n_rows * images_per_row - len(instances)\n",
    "    images.append(np.zeros((size, size * n_empty)))\n",
    "    for row in range(n_rows):\n",
    "        rimages = images[row * images_per_row : (row + 1) * images_per_row]\n",
    "        row_images.append(np.concatenate(rimages, axis=1))\n",
    "    image = np.concatenate(row_images, axis=0)\n",
    "    plt.imshow(image, cmap = mpl.cm.binary, **options)\n",
    "    plt.axis(\"off\")"
   ]
  },
  {
   "cell_type": "code",
   "execution_count": 39,
   "metadata": {},
   "outputs": [
    {
     "data": {
      "image/png": "[encoded data removed]",
      "text/plain": [
       "<Figure size 432x288 with 1 Axes>"
      ]
     },
     "metadata": {
      "needs_background": "light"
     },
     "output_type": "display_data"
    }
   ],
   "source": [
    "example_images = X[:100].to_numpy()\n",
    "plot_digits(example_images, images_per_row=10)"
   ]
  },
  {
   "cell_type": "markdown",
   "metadata": {},
   "source": [
    "# KMN Classfier"
   ]
  },
  {
   "cell_type": "code",
   "execution_count": 43,
   "metadata": {},
   "outputs": [
    {
     "name": "stdout",
     "output_type": "stream",
     "text": [
      "Fitting 5 folds for each of 6 candidates, totalling 30 fits\n",
      "[CV] n_neighbors=3, weights=uniform ..................................\n"
     ]
    },
    {
     "name": "stderr",
     "output_type": "stream",
     "text": [
      "[Parallel(n_jobs=1)]: Using backend SequentialBackend with 1 concurrent workers.\n"
     ]
    },
    {
     "name": "stdout",
     "output_type": "stream",
     "text": [
      "[CV] ...... n_neighbors=3, weights=uniform, score=0.961, total= 2.0min\n",
      "[CV] n_neighbors=3, weights=uniform ..................................\n"
     ]
    },
    {
     "name": "stderr",
     "output_type": "stream",
     "text": [
      "[Parallel(n_jobs=1)]: Done   1 out of   1 | elapsed:  2.0min remaining:    0.0s\n"
     ]
    },
    {
     "name": "stdout",
     "output_type": "stream",
     "text": [
      "[CV] ...... n_neighbors=3, weights=uniform, score=0.960, total= 2.0min\n",
      "[CV] n_neighbors=3, weights=uniform ..................................\n"
     ]
    },
    {
     "name": "stderr",
     "output_type": "stream",
     "text": [
      "[Parallel(n_jobs=1)]: Done   2 out of   2 | elapsed:  4.0min remaining:    0.0s\n"
     ]
    },
    {
     "name": "stdout",
     "output_type": "stream",
     "text": [
      "[CV] ...... n_neighbors=3, weights=uniform, score=0.959, total= 2.0min\n",
      "[CV] n_neighbors=3, weights=uniform ..................................\n",
      "[CV] ...... n_neighbors=3, weights=uniform, score=0.962, total= 2.0min\n",
      "[CV] n_neighbors=3, weights=uniform ..................................\n",
      "[CV] ...... n_neighbors=3, weights=uniform, score=0.964, total= 2.0min\n",
      "[CV] n_neighbors=3, weights=distance .................................\n",
      "[CV] ..... n_neighbors=3, weights=distance, score=0.962, total= 2.0min\n",
      "[CV] n_neighbors=3, weights=distance .................................\n",
      "[CV] ..... n_neighbors=3, weights=distance, score=0.962, total= 2.0min\n",
      "[CV] n_neighbors=3, weights=distance .................................\n",
      "[CV] ..... n_neighbors=3, weights=distance, score=0.961, total= 2.0min\n",
      "[CV] n_neighbors=3, weights=distance .................................\n",
      "[CV] ..... n_neighbors=3, weights=distance, score=0.966, total= 2.0min\n",
      "[CV] n_neighbors=3, weights=distance .................................\n",
      "[CV] ..... n_neighbors=3, weights=distance, score=0.965, total= 2.0min\n",
      "[CV] n_neighbors=4, weights=uniform ..................................\n",
      "[CV] ...... n_neighbors=4, weights=uniform, score=0.958, total= 2.0min\n",
      "[CV] n_neighbors=4, weights=uniform ..................................\n",
      "[CV] ...... n_neighbors=4, weights=uniform, score=0.958, total= 2.0min\n",
      "[CV] n_neighbors=4, weights=uniform ..................................\n",
      "[CV] ...... n_neighbors=4, weights=uniform, score=0.960, total= 2.0min\n",
      "[CV] n_neighbors=4, weights=uniform ..................................\n",
      "[CV] ...... n_neighbors=4, weights=uniform, score=0.960, total= 2.0min\n",
      "[CV] n_neighbors=4, weights=uniform ..................................\n",
      "[CV] ...... n_neighbors=4, weights=uniform, score=0.962, total= 2.0min\n",
      "[CV] n_neighbors=4, weights=distance .................................\n",
      "[CV] ..... n_neighbors=4, weights=distance, score=0.963, total= 2.0min\n",
      "[CV] n_neighbors=4, weights=distance .................................\n",
      "[CV] ..... n_neighbors=4, weights=distance, score=0.962, total= 2.0min\n",
      "[CV] n_neighbors=4, weights=distance .................................\n",
      "[CV] ..... n_neighbors=4, weights=distance, score=0.963, total= 2.0min\n",
      "[CV] n_neighbors=4, weights=distance .................................\n",
      "[CV] ..... n_neighbors=4, weights=distance, score=0.966, total= 2.0min\n",
      "[CV] n_neighbors=4, weights=distance .................................\n",
      "[CV] ..... n_neighbors=4, weights=distance, score=0.965, total= 2.0min\n",
      "[CV] n_neighbors=5, weights=uniform ..................................\n",
      "[CV] ...... n_neighbors=5, weights=uniform, score=0.961, total= 2.0min\n",
      "[CV] n_neighbors=5, weights=uniform ..................................\n",
      "[CV] ...... n_neighbors=5, weights=uniform, score=0.960, total= 2.0min\n",
      "[CV] n_neighbors=5, weights=uniform ..................................\n",
      "[CV] ...... n_neighbors=5, weights=uniform, score=0.960, total= 2.0min\n",
      "[CV] n_neighbors=5, weights=uniform ..................................\n",
      "[CV] ...... n_neighbors=5, weights=uniform, score=0.962, total= 2.0min\n",
      "[CV] n_neighbors=5, weights=uniform ..................................\n",
      "[CV] ...... n_neighbors=5, weights=uniform, score=0.963, total= 2.0min\n",
      "[CV] n_neighbors=5, weights=distance .................................\n",
      "[CV] ..... n_neighbors=5, weights=distance, score=0.962, total= 2.0min\n",
      "[CV] n_neighbors=5, weights=distance .................................\n",
      "[CV] ..... n_neighbors=5, weights=distance, score=0.962, total= 2.0min\n",
      "[CV] n_neighbors=5, weights=distance .................................\n",
      "[CV] ..... n_neighbors=5, weights=distance, score=0.962, total= 2.0min\n",
      "[CV] n_neighbors=5, weights=distance .................................\n",
      "[CV] ..... n_neighbors=5, weights=distance, score=0.965, total= 2.0min\n",
      "[CV] n_neighbors=5, weights=distance .................................\n",
      "[CV] ..... n_neighbors=5, weights=distance, score=0.964, total= 2.0min\n"
     ]
    },
    {
     "name": "stderr",
     "output_type": "stream",
     "text": [
      "[Parallel(n_jobs=1)]: Done  30 out of  30 | elapsed: 60.4min finished\n"
     ]
    },
    {
     "data": {
      "text/plain": [
       "GridSearchCV(cv=5, estimator=KNeighborsClassifier(),\n",
       "             param_grid=[{'n_neighbors': [3, 4, 5],\n",
       "                          'weights': ['uniform', 'distance']}],\n",
       "             verbose=3)"
      ]
     },
     "execution_count": 43,
     "metadata": {},
     "output_type": "execute_result"
    }
   ],
   "source": [
    "from sklearn.model_selection import GridSearchCV\n",
    "\n",
    "param_grid = [{'weights': [\"uniform\", \"distance\"], 'n_neighbors': [3, 4, 5]}]\n",
    "\n",
    "knn_clf = KNeighborsClassifier()\n",
    "grid_search = GridSearchCV(knn_clf, param_grid, cv=5, verbose=3)\n",
    "grid_search.fit(X_train, y_train)"
   ]
  },
  {
   "cell_type": "code",
   "execution_count": 44,
   "metadata": {},
   "outputs": [
    {
     "data": {
      "text/plain": [
       "{'n_neighbors': 4, 'weights': 'distance'}"
      ]
     },
     "execution_count": 44,
     "metadata": {},
     "output_type": "execute_result"
    }
   ],
   "source": [
    "grid_search.best_params_"
   ]
  },
  {
   "cell_type": "code",
   "execution_count": 46,
   "metadata": {},
   "outputs": [
    {
     "data": {
      "text/plain": [
       "0.96625"
      ]
     },
     "execution_count": 46,
     "metadata": {},
     "output_type": "execute_result"
    }
   ],
   "source": [
    "y_pred = grid_search.predict(X_test)\n",
    "accuracy_score(y_test, y_pred)"
   ]
  },
  {
   "cell_type": "markdown",
   "metadata": {},
   "source": [
    "# SVC Classfier"
   ]
  },
  {
   "cell_type": "code",
   "execution_count": 55,
   "metadata": {},
   "outputs": [
    {
     "data": {
      "text/plain": [
       "0.9310714285714285"
      ]
     },
     "execution_count": 55,
     "metadata": {},
     "output_type": "execute_result"
    }
   ],
   "source": [
    "svm_clf = SVC(gamma=\"auto\", random_state=42)\n",
    "svm_clf.fit(X_train/255.0, y_train) \n",
    "y_pred = svm_clf.predict(X_test/255.0)\n",
    "accuracy_score(y_test, y_pred)"
   ]
  },
  {
   "cell_type": "markdown",
   "metadata": {},
   "source": [
    "# SGD Classfier"
   ]
  },
  {
   "cell_type": "code",
   "execution_count": 54,
   "metadata": {},
   "outputs": [
    {
     "data": {
      "text/plain": [
       "0.9082738095238095"
      ]
     },
     "execution_count": 54,
     "metadata": {},
     "output_type": "execute_result"
    }
   ],
   "source": [
    "sgd_clf = SGDClassifier(max_iter=1000, tol=1e-3, random_state=42)\n",
    "sgd_clf.fit(X_train/255.0, y_train) \n",
    "y_pred = sgd_clf.predict(X_test/255.0)\n",
    "accuracy_score(y_test, y_pred)"
   ]
  },
  {
   "cell_type": "markdown",
   "metadata": {},
   "source": [
    "# Tensor Flow"
   ]
  },
  {
   "cell_type": "code",
   "execution_count": 98,
   "metadata": {},
   "outputs": [],
   "source": [
    "import tensorflow as tf\n",
    "from tensorflow import keras\n"
   ]
  },
  {
   "cell_type": "code",
   "execution_count": 108,
   "metadata": {},
   "outputs": [
    {
     "data": {
      "text/plain": [
       "(28000, 784)"
      ]
     },
     "execution_count": 108,
     "metadata": {},
     "output_type": "execute_result"
    }
   ],
   "source": [
    "X_test.shape"
   ]
  },
  {
   "cell_type": "code",
   "execution_count": 109,
   "metadata": {},
   "outputs": [
    {
     "ename": "ValueError",
     "evalue": "cannot reshape array of size 21952000 into shape (28,28)",
     "output_type": "error",
     "traceback": [
      "\u001b[1;31m---------------------------------------------------------------------------\u001b[0m",
      "\u001b[1;31mValueError\u001b[0m                                Traceback (most recent call last)",
      "\u001b[1;32m<ipython-input-109-d00d0f141fd1>\u001b[0m in \u001b[0;36m<module>\u001b[1;34m\u001b[0m\n\u001b[1;32m----> 1\u001b[1;33m \u001b[0mX_test\u001b[0m\u001b[1;33m.\u001b[0m\u001b[0mreshape\u001b[0m\u001b[1;33m(\u001b[0m\u001b[1;36m28\u001b[0m\u001b[1;33m,\u001b[0m\u001b[1;36m28\u001b[0m\u001b[1;33m)\u001b[0m\u001b[1;33m\u001b[0m\u001b[1;33m\u001b[0m\u001b[0m\n\u001b[0m",
      "\u001b[1;31mValueError\u001b[0m: cannot reshape array of size 21952000 into shape (28,28)"
     ]
    }
   ],
   "source": [
    "X_test.reshape(28,28)"
   ]
  },
  {
   "cell_type": "code",
   "execution_count": 99,
   "metadata": {},
   "outputs": [],
   "source": [
    "model = keras.models.Sequential()\n",
    "model.add(keras.layers.Flatten(input_shape=[28,28]))\n",
    "model.add(keras.layers.Dense(300, activation=\"relu\"))\n",
    "model.add(keras.layers.Dense(100, activation=\"relu\"))\n",
    "model.add(keras.layers.Dense(10, activation=\"softmax\"))"
   ]
  },
  {
   "cell_type": "code",
   "execution_count": 100,
   "metadata": {},
   "outputs": [],
   "source": [
    "model.compile(loss=\"sparse_categorical_crossentropy\",\n",
    "              optimizer=\"sgd\",\n",
    "              metrics=[\"accuracy\"])"
   ]
  },
  {
   "cell_type": "code",
   "execution_count": 101,
   "metadata": {},
   "outputs": [
    {
     "name": "stdout",
     "output_type": "stream",
     "text": [
      "Model: \"sequential_10\"\n",
      "_________________________________________________________________\n",
      "Layer (type)                 Output Shape              Param #   \n",
      "=================================================================\n",
      "flatten_10 (Flatten)         (None, 784)               0         \n",
      "_________________________________________________________________\n",
      "dense_30 (Dense)             (None, 300)               235500    \n",
      "_________________________________________________________________\n",
      "dense_31 (Dense)             (None, 100)               30100     \n",
      "_________________________________________________________________\n",
      "dense_32 (Dense)             (None, 10)                1010      \n",
      "=================================================================\n",
      "Total params: 266,610\n",
      "Trainable params: 266,610\n",
      "Non-trainable params: 0\n",
      "_________________________________________________________________\n"
     ]
    }
   ],
   "source": [
    "model.summary()"
   ]
  },
  {
   "cell_type": "code",
   "execution_count": null,
   "metadata": {},
   "outputs": [],
   "source": []
  },
  {
   "cell_type": "code",
   "execution_count": 103,
   "metadata": {},
   "outputs": [
    {
     "name": "stdout",
     "output_type": "stream",
     "text": [
      "Epoch 1/50\n",
      "1050/1050 [==============================] - 1s 1ms/step - loss: 0.0380 - accuracy: 0.9912 - val_loss: 0.1000 - val_accuracy: 0.9711\n",
      "Epoch 2/50\n",
      "1050/1050 [==============================] - 2s 2ms/step - loss: 0.0361 - accuracy: 0.9918 - val_loss: 0.0965 - val_accuracy: 0.9719\n",
      "Epoch 3/50\n",
      "1050/1050 [==============================] - 2s 1ms/step - loss: 0.0343 - accuracy: 0.9926 - val_loss: 0.0989 - val_accuracy: 0.9699\n",
      "Epoch 4/50\n",
      "1050/1050 [==============================] - 1s 1ms/step - loss: 0.0325 - accuracy: 0.9933 - val_loss: 0.0968 - val_accuracy: 0.9702\n",
      "Epoch 5/50\n",
      "1050/1050 [==============================] - 1s 1ms/step - loss: 0.0309 - accuracy: 0.9932 - val_loss: 0.0955 - val_accuracy: 0.9724\n",
      "Epoch 6/50\n",
      "1050/1050 [==============================] - 1s 1ms/step - loss: 0.0294 - accuracy: 0.9937 - val_loss: 0.0966 - val_accuracy: 0.9711\n",
      "Epoch 7/50\n",
      "1050/1050 [==============================] - 1s 1ms/step - loss: 0.0281 - accuracy: 0.9943 - val_loss: 0.0947 - val_accuracy: 0.9714\n",
      "Epoch 8/50\n",
      "1050/1050 [==============================] - 1s 1ms/step - loss: 0.0269 - accuracy: 0.9949 - val_loss: 0.0937 - val_accuracy: 0.9714\n",
      "Epoch 9/50\n",
      "1050/1050 [==============================] - 1s 1ms/step - loss: 0.0254 - accuracy: 0.9952 - val_loss: 0.0949 - val_accuracy: 0.9721\n",
      "Epoch 10/50\n",
      "1050/1050 [==============================] - 1s 1ms/step - loss: 0.0242 - accuracy: 0.9958 - val_loss: 0.0958 - val_accuracy: 0.9713\n",
      "Epoch 11/50\n",
      "1050/1050 [==============================] - 1s 1ms/step - loss: 0.0231 - accuracy: 0.9960 - val_loss: 0.0937 - val_accuracy: 0.9720\n",
      "Epoch 12/50\n",
      "1050/1050 [==============================] - 1s 1ms/step - loss: 0.0219 - accuracy: 0.9966 - val_loss: 0.0933 - val_accuracy: 0.9720\n",
      "Epoch 13/50\n",
      "1050/1050 [==============================] - 1s 1ms/step - loss: 0.0210 - accuracy: 0.9968 - val_loss: 0.0932 - val_accuracy: 0.9730\n",
      "Epoch 14/50\n",
      "1050/1050 [==============================] - 1s 1ms/step - loss: 0.0200 - accuracy: 0.9969 - val_loss: 0.0938 - val_accuracy: 0.9717\n",
      "Epoch 15/50\n",
      "1050/1050 [==============================] - 1s 1ms/step - loss: 0.0190 - accuracy: 0.9971 - val_loss: 0.0934 - val_accuracy: 0.9729\n",
      "Epoch 16/50\n",
      "1050/1050 [==============================] - 1s 1ms/step - loss: 0.0182 - accuracy: 0.9973 - val_loss: 0.0926 - val_accuracy: 0.9729\n",
      "Epoch 17/50\n",
      "1050/1050 [==============================] - 1s 1ms/step - loss: 0.0174 - accuracy: 0.9977 - val_loss: 0.0921 - val_accuracy: 0.9723\n",
      "Epoch 18/50\n",
      "1050/1050 [==============================] - 1s 1ms/step - loss: 0.0167 - accuracy: 0.9978 - val_loss: 0.0926 - val_accuracy: 0.9725\n",
      "Epoch 19/50\n",
      "1050/1050 [==============================] - 1s 1ms/step - loss: 0.0159 - accuracy: 0.9980 - val_loss: 0.0923 - val_accuracy: 0.9733\n",
      "Epoch 20/50\n",
      "1050/1050 [==============================] - 1s 1ms/step - loss: 0.0152 - accuracy: 0.9981 - val_loss: 0.0923 - val_accuracy: 0.9736\n",
      "Epoch 21/50\n",
      "1050/1050 [==============================] - 1s 1ms/step - loss: 0.0145 - accuracy: 0.9980 - val_loss: 0.0956 - val_accuracy: 0.9720\n",
      "Epoch 22/50\n",
      "1050/1050 [==============================] - 1s 1ms/step - loss: 0.0138 - accuracy: 0.9986 - val_loss: 0.0937 - val_accuracy: 0.9735\n",
      "Epoch 23/50\n",
      "1050/1050 [==============================] - 2s 1ms/step - loss: 0.0133 - accuracy: 0.9986 - val_loss: 0.0922 - val_accuracy: 0.9725\n",
      "Epoch 24/50\n",
      "1050/1050 [==============================] - 2s 2ms/step - loss: 0.0126 - accuracy: 0.9987 - val_loss: 0.0949 - val_accuracy: 0.9727\n",
      "Epoch 25/50\n",
      "1050/1050 [==============================] - 2s 2ms/step - loss: 0.0121 - accuracy: 0.9990 - val_loss: 0.0937 - val_accuracy: 0.9738\n",
      "Epoch 26/50\n",
      "1050/1050 [==============================] - 2s 1ms/step - loss: 0.0117 - accuracy: 0.9989 - val_loss: 0.0926 - val_accuracy: 0.9735\n",
      "Epoch 27/50\n",
      "1050/1050 [==============================] - 1s 1ms/step - loss: 0.0112 - accuracy: 0.9990 - val_loss: 0.0923 - val_accuracy: 0.9745\n",
      "Epoch 28/50\n",
      "1050/1050 [==============================] - 1s 1ms/step - loss: 0.0108 - accuracy: 0.9992 - val_loss: 0.0926 - val_accuracy: 0.9735\n",
      "Epoch 29/50\n",
      "1050/1050 [==============================] - 1s 1ms/step - loss: 0.0103 - accuracy: 0.9994 - val_loss: 0.0935 - val_accuracy: 0.9732\n",
      "Epoch 30/50\n",
      "1050/1050 [==============================] - 1s 1ms/step - loss: 0.0100 - accuracy: 0.9993 - val_loss: 0.0928 - val_accuracy: 0.9736\n",
      "Epoch 31/50\n",
      "1050/1050 [==============================] - 2s 1ms/step - loss: 0.0096 - accuracy: 0.9994 - val_loss: 0.0942 - val_accuracy: 0.9731\n",
      "Epoch 32/50\n",
      "1050/1050 [==============================] - 2s 2ms/step - loss: 0.0092 - accuracy: 0.9994 - val_loss: 0.0929 - val_accuracy: 0.9742\n",
      "Epoch 33/50\n",
      "1050/1050 [==============================] - 2s 2ms/step - loss: 0.0089 - accuracy: 0.9995 - val_loss: 0.0941 - val_accuracy: 0.9742\n",
      "Epoch 34/50\n",
      "1050/1050 [==============================] - 2s 1ms/step - loss: 0.0086 - accuracy: 0.9996 - val_loss: 0.0944 - val_accuracy: 0.9736\n",
      "Epoch 35/50\n",
      "1050/1050 [==============================] - 2s 1ms/step - loss: 0.0082 - accuracy: 0.9996 - val_loss: 0.0940 - val_accuracy: 0.9738\n",
      "Epoch 36/50\n",
      "1050/1050 [==============================] - 2s 2ms/step - loss: 0.0080 - accuracy: 0.9997 - val_loss: 0.0953 - val_accuracy: 0.9738\n",
      "Epoch 37/50\n",
      "1050/1050 [==============================] - 1s 1ms/step - loss: 0.0077 - accuracy: 0.9997 - val_loss: 0.0950 - val_accuracy: 0.9731\n",
      "Epoch 38/50\n",
      "1050/1050 [==============================] - 2s 1ms/step - loss: 0.0074 - accuracy: 0.9998 - val_loss: 0.0961 - val_accuracy: 0.9732\n",
      "Epoch 39/50\n",
      "1050/1050 [==============================] - 2s 1ms/step - loss: 0.0072 - accuracy: 0.9998 - val_loss: 0.0950 - val_accuracy: 0.9738\n",
      "Epoch 40/50\n",
      "1050/1050 [==============================] - 2s 1ms/step - loss: 0.0070 - accuracy: 0.9998 - val_loss: 0.0944 - val_accuracy: 0.9743\n",
      "Epoch 41/50\n",
      "1050/1050 [==============================] - 2s 2ms/step - loss: 0.0067 - accuracy: 0.9998 - val_loss: 0.0957 - val_accuracy: 0.9746\n",
      "Epoch 42/50\n",
      "1050/1050 [==============================] - 2s 2ms/step - loss: 0.0065 - accuracy: 0.9999 - val_loss: 0.0959 - val_accuracy: 0.9744\n",
      "Epoch 43/50\n",
      "1050/1050 [==============================] - 2s 1ms/step - loss: 0.0062 - accuracy: 0.9999 - val_loss: 0.0947 - val_accuracy: 0.9742\n",
      "Epoch 44/50\n",
      "1050/1050 [==============================] - 2s 1ms/step - loss: 0.0060 - accuracy: 0.9999 - val_loss: 0.0951 - val_accuracy: 0.9739\n",
      "Epoch 45/50\n",
      "1050/1050 [==============================] - 1s 1ms/step - loss: 0.0059 - accuracy: 0.9999 - val_loss: 0.0965 - val_accuracy: 0.9730\n",
      "Epoch 46/50\n",
      "1050/1050 [==============================] - 2s 2ms/step - loss: 0.0057 - accuracy: 0.9998 - val_loss: 0.0959 - val_accuracy: 0.9737\n",
      "Epoch 47/50\n",
      "1050/1050 [==============================] - 1s 1ms/step - loss: 0.0055 - accuracy: 0.9999 - val_loss: 0.0962 - val_accuracy: 0.9738\n",
      "Epoch 48/50\n",
      "1050/1050 [==============================] - 2s 1ms/step - loss: 0.0054 - accuracy: 0.9999 - val_loss: 0.0958 - val_accuracy: 0.9737\n",
      "Epoch 49/50\n",
      "1050/1050 [==============================] - 2s 2ms/step - loss: 0.0052 - accuracy: 0.9999 - val_loss: 0.0956 - val_accuracy: 0.9744\n",
      "Epoch 50/50\n",
      "1050/1050 [==============================] - 2s 2ms/step - loss: 0.0051 - accuracy: 0.9999 - val_loss: 0.0966 - val_accuracy: 0.9738\n"
     ]
    }
   ],
   "source": [
    "history = model.fit(X_train, y_train, epochs=50,\n",
    "                    validation_data=(X_val, y_val))"
   ]
  },
  {
   "cell_type": "code",
   "execution_count": 41,
   "metadata": {},
   "outputs": [
    {
     "data": {
      "text/plain": [
       "{'verbose': 1, 'epochs': 30, 'steps': 788}"
      ]
     },
     "execution_count": 41,
     "metadata": {},
     "output_type": "execute_result"
    }
   ],
   "source": [
    "history.params"
   ]
  },
  {
   "cell_type": "code",
   "execution_count": 45,
   "metadata": {},
   "outputs": [
    {
     "data": {
      "image/png": "[encoded data removed]",
      "text/plain": [
       "<Figure size 576x360 with 1 Axes>"
      ]
     },
     "metadata": {
      "needs_background": "light"
     },
     "output_type": "display_data"
    }
   ],
   "source": [
    "import pandas as pd\n",
    "import matplotlib.pyplot as plt\n",
    "\n",
    "pd.DataFrame(history.history).plot(figsize=(8, 5))\n",
    "plt.grid(True)\n",
    "plt.gca().set_ylim(0, 1)\n",
    "plt.show()"
   ]
  },
  {
   "cell_type": "markdown",
   "metadata": {},
   "source": [
    "# Data Augumentation"
   ]
  },
  {
   "cell_type": "code",
   "execution_count": 99,
   "metadata": {},
   "outputs": [
    {
     "name": "stdout",
     "output_type": "stream",
     "text": [
      "(126000, 784)\n"
     ]
    },
    {
     "data": {
      "text/plain": [
       "0.9757738095238095"
      ]
     },
     "execution_count": 99,
     "metadata": {},
     "output_type": "execute_result"
    }
   ],
   "source": [
    "def shift_image(image, dx, dy):\n",
    "    image = image.reshape((28, 28))\n",
    "    shifted_image = shift(image, [dy, dx], cval=0, mode=\"constant\")\n",
    "    return shifted_image.reshape([-1])\n",
    "\n",
    "X_train_np = X_train.to_numpy()\n",
    "y_train_np = y_train.to_numpy()\n",
    "\n",
    "\n",
    "X_train_augmented = [image for image in X_train_np]\n",
    "y_train_augmented = [label for label in y_train_np]\n",
    "\n",
    "for dx, dy in ((1, 0), (-1, 0), (0, 1), (0, -1)):\n",
    "    for image, label in zip(X_train_np, y_train_np):\n",
    "        X_train_augmented.append(shift_image(image, dx, dy))\n",
    "        y_train_augmented.append(label)\n",
    "\n",
    "X_train_augmented = np.array(X_train_augmented)\n",
    "y_train_augmented = np.array(y_train_augmented)\n",
    "\n",
    "print(X_train_augmented.shape)\n",
    "\n",
    "knn_clf = KNeighborsClassifier(**grid_search.best_params_)\n",
    "knn_clf.fit(X_train_augmented, y_train_augmented)\n",
    "y_pred = knn_clf.predict(X_test)\n",
    "accuracy_score(y_test, y_pred)"
   ]
  },
  {
   "cell_type": "markdown",
   "metadata": {},
   "source": [
    "# Predictions"
   ]
  },
  {
   "cell_type": "code",
   "execution_count": 116,
   "metadata": {},
   "outputs": [],
   "source": [
    "predictions = model.predict_classes(X_test)"
   ]
  },
  {
   "cell_type": "code",
   "execution_count": 117,
   "metadata": {},
   "outputs": [
    {
     "data": {
      "text/plain": [
       "array([2, 0, 9, ..., 3, 9, 2], dtype=int64)"
      ]
     },
     "execution_count": 117,
     "metadata": {},
     "output_type": "execute_result"
    }
   ],
   "source": [
    "predictions"
   ]
  },
  {
   "cell_type": "code",
   "execution_count": 118,
   "metadata": {},
   "outputs": [
    {
     "name": "stdout",
     "output_type": "stream",
     "text": [
      "Your submission was successfully saved!\n"
     ]
    }
   ],
   "source": [
    "output = pd.DataFrame({'ImageId': test_df.index+1, 'Label': predictions})\n",
    "output.to_csv('my_submission.csv', index=False)\n",
    "print(\"Your submission was successfully saved!\")"
   ]
  },
  {
   "cell_type": "code",
   "execution_count": 119,
   "metadata": {},
   "outputs": [
    {
     "name": "stdout",
     "output_type": "stream",
     "text": [
      "<class 'pandas.core.frame.DataFrame'>\n",
      "RangeIndex: 28000 entries, 0 to 27999\n",
      "Columns: 784 entries, pixel0 to pixel783\n",
      "dtypes: int64(784)\n",
      "memory usage: 167.5 MB\n",
      "None\n"
     ]
    }
   ],
   "source": [
    "print(test_df.info())"
   ]
  },
  {
   "cell_type": "code",
   "execution_count": 90,
   "metadata": {},
   "outputs": [
    {
     "data": {
      "image/png": "[encoded data removed]",
      "text/plain": [
       "<Figure size 864x216 with 3 Axes>"
      ]
     },
     "metadata": {
      "needs_background": "light"
     },
     "output_type": "display_data"
    }
   ],
   "source": []
  },
  {
   "cell_type": "code",
   "execution_count": 86,
   "metadata": {},
   "outputs": [
    {
     "data": {
      "text/plain": [
       "42000"
      ]
     },
     "execution_count": 86,
     "metadata": {},
     "output_type": "execute_result"
    }
   ],
   "source": []
  },
  {
   "cell_type": "code",
   "execution_count": null,
   "metadata": {},
   "outputs": [],
   "source": []
  }
 ],
 "metadata": {
  "kernelspec": {
   "display_name": "Python 3",
   "language": "python",
   "name": "python3"
  },
  "language_info": {
   "codemirror_mode": {
    "name": "ipython",
    "version": 3
   },
   "file_extension": ".py",
   "mimetype": "text/x-python",
   "name": "python",
   "nbconvert_exporter": "python",
   "pygments_lexer": "ipython3",
   "version": "3.8.5"
  }
 },
 "nbformat": 4,
 "nbformat_minor": 4
}
